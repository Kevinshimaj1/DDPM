{
 "cells": [
  {
   "cell_type": "code",
   "execution_count": 4,
   "id": "1b9d4d09-44bf-4dde-9d70-3bc8bffb34d7",
   "metadata": {
    "tags": []
   },
   "outputs": [],
   "source": [
    "import torch \n",
    "import yaml"
   ]
  },
  {
   "cell_type": "code",
   "execution_count": 5,
   "id": "366150c7-ef12-4345-89d3-dc4152594597",
   "metadata": {
    "tags": []
   },
   "outputs": [],
   "source": [
    "# Carico i parametri dal file config.yaml\n",
    "with open('../configs/config.yaml', 'r') as f:\n",
    "    config = yaml.safe_load(f)"
   ]
  },
  {
   "cell_type": "code",
   "execution_count": 6,
   "id": "ece71e1c-53b4-4df4-aac7-45b1832b6531",
   "metadata": {
    "tags": []
   },
   "outputs": [
    {
     "name": "stdout",
     "output_type": "stream",
     "text": [
      "{'diffusion': {'T': 1000, 'beta_start': 0.0001, 'beta_end': 0.02}, 'training': {'batch_size': 64, 'learning_rate': 0.0001}}\n"
     ]
    }
   ],
   "source": [
    "print(config)"
   ]
  },
  {
   "cell_type": "code",
   "execution_count": 7,
   "id": "8c99a5a7-52fe-47d1-9bfa-c85b71faddcd",
   "metadata": {
    "tags": []
   },
   "outputs": [],
   "source": [
    "# Estraggo i parametri da utilizzare nel forward process\n",
    "T = config['diffusion']['T'] # time-steps\n",
    "beta_start = config['diffusion']['beta_start'] # rumore iniziale\n",
    "beta_end = config['diffusion']['beta_end'] # rumore finale"
   ]
  },
  {
   "cell_type": "code",
   "execution_count": 9,
   "id": "92f31f2d-ac55-4fc2-bd4f-967a27b2a189",
   "metadata": {
    "tags": []
   },
   "outputs": [
    {
     "name": "stdout",
     "output_type": "stream",
     "text": [
      "Parametri caricati: T=1000, beta_start=0.0001, beta_end=0.02\n"
     ]
    }
   ],
   "source": [
    "print(f\"Parametri caricati: T={T}, beta_start={beta_start}, beta_end={beta_end}\")"
   ]
  },
  {
   "cell_type": "code",
   "execution_count": 16,
   "id": "53ea2f68-8d4a-4707-9367-b0886197aee6",
   "metadata": {
    "tags": []
   },
   "outputs": [],
   "source": [
    "# Definizione del NoiseScheduler\n",
    "class NoiseScheduler:\n",
    "    def __init__(self, T, beta_start, beta_end):\n",
    "        \"\"\"\n",
    "        Inizializza il noise scheduler per il forward process\n",
    "        T: numero di time-steps\n",
    "        beta_start: rumore iniziale\n",
    "        beta_end: rumore finale\n",
    "        \"\"\"\n",
    "        self.T = T # quando l'oggetto della classe viene creato, T diventa un attributo di quell'oggetto e può essere utilizzato da altri metodi della classe.\n",
    "        \n",
    "        # beta_t rappresenta la varianza del rumore aggiunto a ogni passo\n",
    "        self.beta = torch.linspace(beta_start, beta_end, T)\n",
    "        \n",
    "        # alpha_t = 1 - beta_t\n",
    "        # Rappresenta quanto dell'immagine originale si è mantenuta al passo t\n",
    "        self.alpha = 1.0 - self.beta\n",
    "        \n",
    "        # Serve per utilizzare la formula chiusa e calcolare direttame te x_t da x_0\n",
    "        self.alpha_bar = torch.cumprod(self.alpha, dim=0)\n",
    "    \n",
    "    def add_noise(self, x0, t, noise):\n",
    "        \"\"\"\n",
    "        Implementa il forward process:\n",
    "        - x_t = sqrt(alpha_bar_t) * x_0 + sqrt(1 - alpha_bar_t) * epsilon\n",
    "        x0: immagine originale (tensor di forma [barch_size, channels, height, width])\n",
    "        t: timestep\n",
    "        noise: rumore gaussiano\n",
    "        \"\"\"\n",
    "        \n",
    "        # Estraggo il valore di alpha_bar_t per lo specifico t\n",
    "        alpha_bar_t = self.alpha_bar[t]\n",
    "        \n",
    "        # Afatto la forma pe ril broadcasting con x0\n",
    "        alpha_bar_t = alpha_bar_t.reshape(-1,1,1,1)\n",
    "        \n",
    "        # Calcolo i coefficienti\n",
    "        sqrt_alpha_bar_t = torch.sqrt(alpha_bar_t)\n",
    "        sqrt_one_minus_alpha_bar_t = torch.sqrt(1.0 - alpha_bar_t)\n",
    "        \n",
    "        # Equazione del forward process\n",
    "        noisy_image = sqrt_alpha_bar_t * x0 + sqrt_one_minus_alpha_bar_t * noise\n",
    "        return noisy_image\n",
    "    \n",
    "# Inizializzo il scheduler\n",
    "scheduler = NoiseScheduler(T, beta_start, beta_end)\n",
    "        "
   ]
  },
  {
   "cell_type": "code",
   "execution_count": 18,
   "id": "24b40817-a5b7-4fa0-af35-767c00a83fa9",
   "metadata": {
    "tags": []
   },
   "outputs": [
    {
     "name": "stdout",
     "output_type": "stream",
     "text": [
      "Forma del batch di immagini: torch.Size([64, 1, 28, 28])\n",
      "Forma del batch di etichette: torch.Size([64])\n"
     ]
    },
    {
     "data": {
      "image/png": "[encoded data removed]",
      "text/plain": [
       "<Figure size 640x480 with 1 Axes>"
      ]
     },
     "metadata": {},
     "output_type": "display_data"
    }
   ],
   "source": [
    "# test del forward process\n",
    "%run ./data_loader.ipynb"
   ]
  },
  {
   "cell_type": "code",
   "execution_count": 19,
   "id": "0e24bfd8-bc46-4ae7-83bd-dcc98a3eb501",
   "metadata": {
    "tags": []
   },
   "outputs": [],
   "source": [
    "dataloader = get_dataloader(batch_size=64)\n",
    "images, _ = next(iter(dataloader))"
   ]
  },
  {
   "cell_type": "code",
   "execution_count": 20,
   "id": "d152a3a2-a34e-4376-a968-5775936af0b9",
   "metadata": {
    "tags": []
   },
   "outputs": [],
   "source": [
    "noise = torch.randn_like(images)  # Rumore gaussiano\n",
    "t = torch.randint(0, T, (images.shape[0],))  # Passi casuali"
   ]
  },
  {
   "cell_type": "code",
   "execution_count": 21,
   "id": "be7375e3-6e62-40d4-910b-4732a9c300c2",
   "metadata": {
    "tags": []
   },
   "outputs": [
    {
     "name": "stdout",
     "output_type": "stream",
     "text": [
      "Forma delle immagini originali: torch.Size([64, 1, 28, 28])\n",
      "Forma delle immagini rumorose: torch.Size([64, 1, 28, 28])\n"
     ]
    }
   ],
   "source": [
    "noisy_images = scheduler.add_noise(images, t, noise)\n",
    "\n",
    "print(f\"Forma delle immagini originali: {images.shape}\")\n",
    "print(f\"Forma delle immagini rumorose: {noisy_images.shape}\")"
   ]
  },
  {
   "cell_type": "code",
   "execution_count": 27,
   "id": "d74c1e45-e54a-422d-b36c-79376811ad7e",
   "metadata": {
    "tags": []
   },
   "outputs": [
    {
     "data": {
      "image/png": "[encoded data removed]",
      "text/plain": [
       "<Figure size 1000x500 with 2 Axes>"
      ]
     },
     "metadata": {},
     "output_type": "display_data"
    }
   ],
   "source": [
    "# Cell 4: Visualizzazione a un timestep specifico\n",
    "import matplotlib.pyplot as plt\n",
    "\n",
    "specific_t = 999 # al massimo 999\n",
    "\n",
    "# Prendi la prima immagine del batch\n",
    "image = images[0:1]  # Forma: [1, 1, 28, 28]\n",
    "\n",
    "# Genera rumore per quell'immagine\n",
    "noise = torch.randn_like(image)\n",
    "\n",
    "# Aggiungi rumore al timestep scelto\n",
    "noisy_image = scheduler.add_noise(image, torch.tensor([specific_t]), noise)\n",
    "\n",
    "# Visualizzazione\n",
    "plt.figure(figsize=(10, 5))\n",
    "plt.subplot(1, 2, 1)\n",
    "plt.imshow(image[0][0], cmap='gray')\n",
    "plt.title(\"Immagine originale\")\n",
    "plt.axis('off')\n",
    "\n",
    "plt.subplot(1, 2, 2)\n",
    "plt.imshow(noisy_image[0][0], cmap='gray')\n",
    "plt.title(f\"Immagine rumorosa (t={specific_t})\")\n",
    "plt.axis('off')\n",
    "\n",
    "plt.show()"
   ]
  },
  {
   "cell_type": "code",
   "execution_count": null,
   "id": "20270d51-d894-4a98-ac0f-352d8dc3a52e",
   "metadata": {},
   "outputs": [],
   "source": []
  }
 ],
 "metadata": {
  "kernelspec": {
   "display_name": "Python 3 (ipykernel)",
   "language": "python",
   "name": "python3"
  },
  "language_info": {
   "codemirror_mode": {
    "name": "ipython",
    "version": 3
   },
   "file_extension": ".py",
   "mimetype": "text/x-python",
   "name": "python",
   "nbconvert_exporter": "python",
   "pygments_lexer": "ipython3",
   "version": "3.11.5"
  }
 },
 "nbformat": 4,
 "nbformat_minor": 5
}
