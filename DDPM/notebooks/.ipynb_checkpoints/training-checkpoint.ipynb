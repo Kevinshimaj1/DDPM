{
 "cells": [
  {
   "cell_type": "code",
   "execution_count": 12,
   "id": "22d00f52-6964-4914-b3e2-070e9eae20f4",
   "metadata": {
    "tags": []
   },
   "outputs": [],
   "source": [
    "import torch\n",
    "import torch.nn as nn\n",
    "import torch.optim as optim\n",
    "from torch.utils.data import DataLoader\n",
    "import torchvision\n",
    "import torchvision.transforms as transforms\n",
    "import yaml\n",
    "import os\n",
    "import matplotlib.pyplot as plt\n",
    "\n",
    "with open('../configs/config.yaml', 'r') as f:\n",
    "    config = yaml.safe_load(f)\n",
    "\n",
    "T = config['diffusion']['T']\n",
    "beta_start = config['diffusion']['beta_start']\n",
    "beta_end = config['diffusion']['beta_end']\n",
    "batch_size = 64\n",
    "learning_rate = 1e-4\n",
    "\n",
    "epochs = 30\n",
    "checkpoint_dir = '../checkpoints' # salvo i pesi del modello in questa directory\n",
    "os.makedirs(checkpoint_dir, exist_ok=True)"
   ]
  },
  {
   "cell_type": "code",
   "execution_count": 13,
   "id": "a5548b07-534f-4e5b-a42d-b7dc1ea2cb81",
   "metadata": {
    "tags": []
   },
   "outputs": [],
   "source": [
    "class TimeEmbedding(nn.Module):\n",
    "    def __init__(self, dim):\n",
    "        super().__init__()\n",
    "        self.dim = dim\n",
    "        self.embedding = nn.Sequential(\n",
    "            nn.Linear(dim, dim),\n",
    "            nn.SiLU(),\n",
    "            nn.Linear(dim, dim)\n",
    "        )\n",
    "    \n",
    "    def get_sinusoidal_embedding(self, t):\n",
    "        t = t.float()\n",
    "        half_dim = self.dim // 2\n",
    "        freqs = torch.arange(half_dim, dtype=torch.float32)\n",
    "        freqs = 10000 ** (-freqs / half_dim)\n",
    "        angles = t[:, None] * freqs[None, :]\n",
    "        emb = torch.cat([torch.sin(angles), torch.cos(angles)], dim=-1)\n",
    "        return emb\n",
    "    \n",
    "    def forward(self, t):\n",
    "        emb = self.get_sinusoidal_embedding(t)\n",
    "        emb = self.embedding(emb)\n",
    "        return emb"
   ]
  },
  {
   "cell_type": "code",
   "execution_count": 14,
   "id": "5e3cefee-e270-4a8d-8e00-824ed0cfe865",
   "metadata": {
    "tags": []
   },
   "outputs": [],
   "source": [
    "class ConvBlock(nn.Module):\n",
    "    def __init__(self, in_channels, out_channels):\n",
    "        super().__init__()\n",
    "        self.conv = nn.Sequential(\n",
    "            nn.Conv2d(in_channels, out_channels, kernel_size=3, padding=1),\n",
    "            nn.GroupNorm(8, out_channels),\n",
    "            nn.SiLU(),\n",
    "            nn.Conv2d(out_channels, out_channels, kernel_size=3, padding=1),\n",
    "            nn.GroupNorm(8, out_channels),\n",
    "            nn.SiLU(),\n",
    "        )\n",
    "    \n",
    "    def forward(self, x):\n",
    "        return self.conv(x)"
   ]
  },
  {
   "cell_type": "code",
   "execution_count": 15,
   "id": "f6410cc0-544a-4e61-9b9c-290ee6a383cc",
   "metadata": {
    "tags": []
   },
   "outputs": [],
   "source": [
    "class UNet(nn.Module):\n",
    "    def __init__(self, in_channels=1, out_channels=1, base_channels=64, time_dim=128):\n",
    "        super().__init__()\n",
    "        self.time_dim = time_dim\n",
    "        self.time_emb = TimeEmbedding(time_dim)\n",
    "        self.enc1 = ConvBlock(in_channels, base_channels)\n",
    "        self.pool1 = nn.MaxPool2d(2)\n",
    "        self.enc2 = ConvBlock(base_channels, base_channels * 2)\n",
    "        self.pool2 = nn.MaxPool2d(2)\n",
    "        self.enc3 = ConvBlock(base_channels * 2, base_channels * 4)\n",
    "        self.bottleneck = ConvBlock(base_channels * 4, base_channels * 4)\n",
    "        self.up1 = nn.ConvTranspose2d(base_channels * 4, base_channels * 2, kernel_size=2, stride=2)\n",
    "        self.dec1 = ConvBlock(base_channels * 4, base_channels * 2)\n",
    "        self.up2 = nn.ConvTranspose2d(base_channels * 2, base_channels, kernel_size=2, stride=2)\n",
    "        self.dec2 = ConvBlock(base_channels * 2, base_channels)\n",
    "        self.out = nn.Conv2d(base_channels, out_channels, kernel_size=3, padding=1)\n",
    "        self.time_proj1 = nn.Linear(time_dim, base_channels)\n",
    "        self.time_proj2 = nn.Linear(time_dim, base_channels * 2)\n",
    "        self.time_proj3 = nn.Linear(time_dim, base_channels * 4)\n",
    "    \n",
    "    def forward(self, x, t):\n",
    "        t_emb = self.time_emb(t)\n",
    "        e1 = self.enc1(x) + self.time_proj1(t_emb)[:, :, None, None]\n",
    "        d1 = self.pool1(e1)\n",
    "        e2 = self.enc2(d1) + self.time_proj2(t_emb)[:, :, None, None]\n",
    "        d2 = self.pool2(e2)\n",
    "        e3 = self.enc3(d2) + self.time_proj3(t_emb)[:, :, None, None]\n",
    "        b = self.bottleneck(e3)\n",
    "        u1 = self.up1(b)\n",
    "        u1 = torch.cat([u1, e2], dim=1)\n",
    "        d1 = self.dec1(u1)\n",
    "        u2 = self.up2(d1)\n",
    "        u2 = torch.cat([u2, e1], dim=1)\n",
    "        d2 = self.dec2(u2)\n",
    "        out = self.out(d2)\n",
    "        return out"
   ]
  },
  {
   "cell_type": "code",
   "execution_count": 16,
   "id": "e594ba59-cd0c-484c-b57d-487fcf1d5e2d",
   "metadata": {
    "tags": []
   },
   "outputs": [],
   "source": [
    "class NoiseScheduler:\n",
    "    def __init__(self, T, beta_start, beta_end):\n",
    "        self.T = T\n",
    "        self.beta_start = beta_start\n",
    "        self.beta_end = beta_end\n",
    "        \n",
    "        # Calcola beta, alpha e alpha_bar\n",
    "        self.beta = torch.linspace(beta_start, beta_end, T)\n",
    "        self.alpha = 1.0 - self.beta\n",
    "        self.alpha_bar = torch.cumprod(self.alpha, dim=0)\n",
    "    \n",
    "    def add_noise(self, x_0, t, noise):\n",
    "        # Aggiunge rumore all'immagine x_0 al timestep t\n",
    "        alpha_bar_t = self.alpha_bar[t].to(t.device).reshape(-1, 1, 1, 1)\n",
    "        return torch.sqrt(alpha_bar_t) * x_0 + torch.sqrt(1 - alpha_bar_t) * noise"
   ]
  },
  {
   "cell_type": "code",
   "execution_count": 17,
   "id": "bf574d9a-7c2a-4519-bf85-2763e525b15c",
   "metadata": {
    "tags": []
   },
   "outputs": [],
   "source": [
    "transform = transforms.Compose([\n",
    "    transforms.ToTensor(),\n",
    "    transforms.Normalize((0.5,), (0.5,))\n",
    "])\n",
    "\n",
    "train_dataset = torchvision.datasets.MNIST(root='../data', train=True, download=True, transform=transform)\n",
    "train_loader = DataLoader(train_dataset, batch_size=batch_size, shuffle=True)"
   ]
  },
  {
   "cell_type": "code",
   "execution_count": 18,
   "id": "5a710c83-5946-442e-814c-04b2b16b4831",
   "metadata": {},
   "outputs": [
    {
     "ename": "RuntimeError",
     "evalue": "indices should be either on cpu or on the same device as the indexed tensor (cpu)",
     "output_type": "error",
     "traceback": [
      "\u001b[0;31m---------------------------------------------------------------------------\u001b[0m",
      "\u001b[0;31mRuntimeError\u001b[0m                              Traceback (most recent call last)",
      "Cell \u001b[0;32mIn[18], line 26\u001b[0m\n\u001b[1;32m     24\u001b[0m \u001b[38;5;66;03m# Genera rumore e immagine rumorosa\u001b[39;00m\n\u001b[1;32m     25\u001b[0m noise \u001b[38;5;241m=\u001b[39m torch\u001b[38;5;241m.\u001b[39mrandn_like(images)\n\u001b[0;32m---> 26\u001b[0m noisy_images \u001b[38;5;241m=\u001b[39m scheduler\u001b[38;5;241m.\u001b[39madd_noise(images, t, noise)\n\u001b[1;32m     28\u001b[0m \u001b[38;5;66;03m# Previsione del rumore\u001b[39;00m\n\u001b[1;32m     29\u001b[0m predicted_noise \u001b[38;5;241m=\u001b[39m unet(noisy_images, t)\n",
      "Cell \u001b[0;32mIn[16], line 14\u001b[0m, in \u001b[0;36mNoiseScheduler.add_noise\u001b[0;34m(self, x_0, t, noise)\u001b[0m\n\u001b[1;32m     12\u001b[0m \u001b[38;5;28;01mdef\u001b[39;00m \u001b[38;5;21madd_noise\u001b[39m(\u001b[38;5;28mself\u001b[39m, x_0, t, noise):\n\u001b[1;32m     13\u001b[0m     \u001b[38;5;66;03m# Aggiunge rumore all'immagine x_0 al timestep t\u001b[39;00m\n\u001b[0;32m---> 14\u001b[0m     alpha_bar_t \u001b[38;5;241m=\u001b[39m \u001b[38;5;28mself\u001b[39m\u001b[38;5;241m.\u001b[39malpha_bar[t]\u001b[38;5;241m.\u001b[39mto(t\u001b[38;5;241m.\u001b[39mdevice)\u001b[38;5;241m.\u001b[39mreshape(\u001b[38;5;241m-\u001b[39m\u001b[38;5;241m1\u001b[39m, \u001b[38;5;241m1\u001b[39m, \u001b[38;5;241m1\u001b[39m, \u001b[38;5;241m1\u001b[39m)\n\u001b[1;32m     15\u001b[0m     \u001b[38;5;28;01mreturn\u001b[39;00m torch\u001b[38;5;241m.\u001b[39msqrt(alpha_bar_t) \u001b[38;5;241m*\u001b[39m x_0 \u001b[38;5;241m+\u001b[39m torch\u001b[38;5;241m.\u001b[39msqrt(\u001b[38;5;241m1\u001b[39m \u001b[38;5;241m-\u001b[39m alpha_bar_t) \u001b[38;5;241m*\u001b[39m noise\n",
      "\u001b[0;31mRuntimeError\u001b[0m: indices should be either on cpu or on the same device as the indexed tensor (cpu)"
     ]
    }
   ],
   "source": [
    "# Training Loop\n",
    "device = torch.device('mps' if torch.backends.mps.is_available() else 'cpu') # determino il dispositivo su cui eseguire il training (GPU integrata apple silicon)\n",
    "\n",
    "# Inizializzo i modelli\n",
    "scheduler = NoiseScheduler(T, beta_start, beta_end)\n",
    "unet = UNet().to(device) \n",
    "optimizer = optim.Adam(unet.parameters(), lr=learning_rate) # ottimizzatore per aggiornare i pesi della U-Net durante il training\n",
    "criterion = nn.MSELoss() # mi permette di misurare \n",
    "\n",
    "# Lista per salvare la loss media di ogni epoca\n",
    "losses = []\n",
    "\n",
    "# Training\n",
    "for epoch in range(epochs):\n",
    "    unet.train()\n",
    "    total_loss = 0\n",
    "    for i, (images, _) in enumerate(train_loader):\n",
    "        images = images.to(device)\n",
    "        batch_size = images.shape[0] # [64,1,28,28] --> 64 (batch_size)\n",
    "        \n",
    "        # Campiona timestep casuali\n",
    "        t = torch.randint(0, T, (batch_size,), device=device)\n",
    "        \n",
    "        # Genera rumore e immagine rumorosa\n",
    "        noise = torch.randn_like(images)\n",
    "        noisy_images = scheduler.add_noise(images, t, noise)\n",
    "        \n",
    "        # Previsione del rumore\n",
    "        predicted_noise = unet(noisy_images, t)\n",
    "        \n",
    "        # Calcola la loss\n",
    "        loss = criterion(predicted_noise, noise)\n",
    "        total_loss += loss.item() # accumulo la loss di ogni batch\n",
    "        \n",
    "        # Ottimizzazione\n",
    "        optimizer.zero_grad() # azzero i gradienti accumulati nei batch precedenti\n",
    "        loss.backward()\n",
    "        optimizer.step() # aggiorno i pesi della U-net \n",
    "        \n",
    "        if i % 100 == 0:\n",
    "            print(f\"Epoch [{epoch+1}/{epochs}], Step [{i}/{len(train_loader)}], Loss: {loss.item():.4f}\")\n",
    "    \n",
    "    # Calcolo e salvo la loss media\n",
    "    avg_loss = total_loss / len(train_loader)\n",
    "    losses.append(avg_loss)\n",
    "    print(f\"Epoch [{epoch+1}/{epochs}] Average Loss: {avg_loss:.4f}\")\n",
    "    \n",
    "    # Salvo il modello\n",
    "    torch.save(unet.state_dict(), os.path.join(checkpoint_dir, f'unet_epoch_{epoch+1}.pth'))"
   ]
  },
  {
   "cell_type": "code",
   "execution_count": 18,
   "id": "30c2adc3-d0d7-43dc-a524-e1117f9fcb52",
   "metadata": {
    "tags": []
   },
   "outputs": [
    {
     "data": {
      "image/png": "[encoded data removed]",
      "text/plain": [
       "<Figure size 640x480 with 1 Axes>"
      ]
     },
     "metadata": {},
     "output_type": "display_data"
    }
   ],
   "source": [
    "unet.eval()\n",
    "with torch.no_grad():\n",
    "    # Campiono un'immagine di rumore casuale\n",
    "    noise = torch.randn(1, 1, 28, 28).to(device)  \n",
    "    t = torch.full((1,), T-1, dtype=torch.long, device=device)  # Passo temporale finale (T-1)\n",
    "    \n",
    "    # Eseguo il processo inverso per generare l'immagine\n",
    "    generated_image = noise\n",
    "    for i in range(T-1, 0, -1):\n",
    "        t.fill_(i)\n",
    "        generated_image = unet(generated_image, t)\n",
    "    \n",
    "    # Mostro l'immagine generata\n",
    "    generated_image = generated_image.squeeze().cpu().numpy()\n",
    "    plt.imshow(generated_image, cmap='gray')\n",
    "    plt.show()\n"
   ]
  }
 ],
 "metadata": {
  "kernelspec": {
   "display_name": "Python 3 (ipykernel)",
   "language": "python",
   "name": "python3"
  },
  "language_info": {
   "codemirror_mode": {
    "name": "ipython",
    "version": 3
   },
   "file_extension": ".py",
   "mimetype": "text/x-python",
   "name": "python",
   "nbconvert_exporter": "python",
   "pygments_lexer": "ipython3",
   "version": "3.11.5"
  }
 },
 "nbformat": 4,
 "nbformat_minor": 5
}
