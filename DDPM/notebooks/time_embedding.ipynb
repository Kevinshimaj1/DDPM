{
 "cells": [
  {
   "cell_type": "code",
   "execution_count": 3,
   "id": "b507ada1-1933-4cd0-858e-a24a53a1e13e",
   "metadata": {
    "tags": []
   },
   "outputs": [],
   "source": [
    "import torch\n",
    "import torch.nn as nn \n",
    "import yaml"
   ]
  },
  {
   "cell_type": "code",
   "execution_count": 4,
   "id": "b9f5b7e0-f3f1-4547-84bf-6f0fd1290e0c",
   "metadata": {
    "tags": []
   },
   "outputs": [],
   "source": [
    "# Carico i parametri dal file config.yaml\n",
    "with open('../configs/config.yaml', 'r') as f:\n",
    "    config = yaml.safe_load(f)\n",
    "\n",
    "T = config['diffusion']['T']"
   ]
  },
  {
   "cell_type": "code",
   "execution_count": 9,
   "id": "049764a7-ccb0-4ffc-bd8d-5cc7808c0b27",
   "metadata": {},
   "outputs": [],
   "source": [
    "class TimeEmbedding(nn.Module): # La classe eredita da Module\n",
    "    def __init__(self, dim):\n",
    "        \"\"\"\n",
    "        Inizializza il time-step embedding.\n",
    "        dim: dimensione dell'embedding\n",
    "        \"\"\"\n",
    "        super().__init__() # Invoco il costruttore della classe nn.Module\n",
    "        self.dim = dim\n",
    "        \n",
    "        # Modulo MLP per post-elaborazione\n",
    "        self.embedding = nn.Sequential( # Sequential permette di definire una sequenza di layer\n",
    "        nn.Linear(dim, dim),  # In input ottengo un embedding sinusoidale di dimensione dim, non occorre modificarne la dimensione\n",
    "        nn.SiLU(),          # Introduco non linearità, necessario per la backpropagation\n",
    "        nn.Linear(dim, dim) # Proiezione finale\n",
    "        )\n",
    "        \n",
    "    def get_sinusoidal_embedding(self, t):\n",
    "        \"\"\"\n",
    "        Calcola l'embedding sinusoidale per il timestep t.\n",
    "        t: tensor di timestep\n",
    "        Ritorna: tensor di forma [batch_size,dim]\n",
    "        \"\"\"\n",
    "        t = t.float()\n",
    "        \n",
    "        # Calcolo le frequenze\n",
    "        half_dim = self.dim // 2 # L'embedding finale avrà dim elementi, con metà dedicati al seno e metà al coseno\n",
    "        index_i = torch.arange(half_dim, dtype=torch.float32) # Rappresentà l'indice i nella formua \n",
    "        index_i = 10000 ** (-index_i / half_dim) # Inverso della formula (denominatore)\n",
    "        \n",
    "        # t * index_i\n",
    "        angles = t[:, None] * freqs[None, :] # Matrice di angoli contenente t * index_i\n",
    "        \n",
    "        # Embedding sinusoidale\n",
    "        emb = torch.cat([torch.sin(angles), torch.cos(angles)], dim=-1)\n",
    "        return emb\n",
    "    \n",
    "    def forward(self,t):\n",
    "        \"\"\"\n",
    "        Trasforma il timestep t in un embedding elaborato\n",
    "        t : tensore d timestep, dimensione = a batch_size\n",
    "        Ritorna: embedding \n",
    "        \"\"\"\n",
    "        emb = self.get_sinusoidal_embedding(t)\n",
    "        emb = self.embedding(emb)\n",
    "        return emb"
   ]
  },
  {
   "cell_type": "code",
   "execution_count": 10,
   "id": "fe9c4373-9735-46c6-8ff4-f2133c246939",
   "metadata": {
    "tags": []
   },
   "outputs": [],
   "source": [
    "dim = 128\n",
    "time_emb = TimeEmbedding(dim)"
   ]
  },
  {
   "cell_type": "code",
   "execution_count": null,
   "id": "dd44efbf-735a-4e4b-a168-1aaa74091ee9",
   "metadata": {},
   "outputs": [],
   "source": []
  }
 ],
 "metadata": {
  "kernelspec": {
   "display_name": "Python 3 (ipykernel)",
   "language": "python",
   "name": "python3"
  },
  "language_info": {
   "codemirror_mode": {
    "name": "ipython",
    "version": 3
   },
   "file_extension": ".py",
   "mimetype": "text/x-python",
   "name": "python",
   "nbconvert_exporter": "python",
   "pygments_lexer": "ipython3",
   "version": "3.11.5"
  }
 },
 "nbformat": 4,
 "nbformat_minor": 5
}
