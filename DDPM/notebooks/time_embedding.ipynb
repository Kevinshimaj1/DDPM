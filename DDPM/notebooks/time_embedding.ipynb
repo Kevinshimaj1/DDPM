{
 "cells": [
  {
   "cell_type": "code",
   "execution_count": 1,
   "id": "b507ada1-1933-4cd0-858e-a24a53a1e13e",
   "metadata": {
    "tags": []
   },
   "outputs": [],
   "source": [
    "import torch\n",
    "import torch.nn as nn \n",
    "import yaml"
   ]
  },
  {
   "cell_type": "code",
   "execution_count": 6,
   "id": "b9f5b7e0-f3f1-4547-84bf-6f0fd1290e0c",
   "metadata": {
    "tags": []
   },
   "outputs": [],
   "source": [
    "# Carico i parametri dal file config.yaml\n",
    "with open('../configs/config.yaml', 'r') as f:\n",
    "    config = yaml.safe_load(f)\n",
    "\n",
    "T = config['diffusion']['T']"
   ]
  },
  {
   "cell_type": "code",
   "execution_count": null,
   "id": "049764a7-ccb0-4ffc-bd8d-5cc7808c0b27",
   "metadata": {},
   "outputs": [],
   "source": [
    "class TimeEmbedding(nn.Module): # La classe eredita da Module\n",
    "    def __init__(self, dim):\n",
    "        \"\"\"\n",
    "        Inizializza il time-step embedding.\n",
    "        dim: dimensione dell'embedding\n",
    "        \"\"\"\n",
    "        super().__init__() # Invoco il costruttore della classe nn.Module\n",
    "        self.dim = dim\n",
    "        \n",
    "        # Modulo MLP per post-elaborazione\n",
    "        self.embedding = nn.Sequential( # Sequential permette di definire una sequenza di layer\n",
    "        nn.Linear(1, dim),  # Trasformo un input scalare (1) in un vettore di dimensione dim\n",
    "        nn.SiLU(),          # Introduco non linearità, necessario per la backpropagation\n",
    "        nn.Linear(dim, dim) # Proiezione finale\n",
    "        )\n",
    "        \n",
    "    def get_sinusoidal_embedding(self, t):\n",
    "        \"\"\"\n",
    "        Calcola l'embedding sinusoidale per il timestep t.\n",
    "        t: tensor di timestep\n",
    "        Ritorna: tensor di forma [batch_size,dim]\n",
    "        \"\"\"\n",
    "        t = t.float()\n",
    "        \n",
    "        \n"
   ]
  }
 ],
 "metadata": {
  "kernelspec": {
   "display_name": "Python 3 (ipykernel)",
   "language": "python",
   "name": "python3"
  },
  "language_info": {
   "codemirror_mode": {
    "name": "ipython",
    "version": 3
   },
   "file_extension": ".py",
   "mimetype": "text/x-python",
   "name": "python",
   "nbconvert_exporter": "python",
   "pygments_lexer": "ipython3",
   "version": "3.11.5"
  }
 },
 "nbformat": 4,
 "nbformat_minor": 5
}
