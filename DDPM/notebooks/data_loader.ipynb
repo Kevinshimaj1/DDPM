{
 "cells": [
  {
   "cell_type": "code",
   "execution_count": 1,
   "id": "0e55385b-9b26-4df4-bb62-ec77f6f3b38f",
   "metadata": {
    "tags": []
   },
   "outputs": [],
   "source": [
    "import torch  # libreria per i tensori\n",
    "from torchvision import datasets, transforms  # dataset contiene dataset predefiniti e transforms viene utilizzato per processare le immagini\n",
    "from torch.utils.data import DataLoader  # utile per creare batch di dati"
   ]
  },
  {
   "cell_type": "code",
   "execution_count": 2,
   "id": "86f93880-bf8e-48a2-9e73-88fe21b71b8c",
   "metadata": {
    "tags": []
   },
   "outputs": [],
   "source": [
    "def get_dataloader(batch_size):\n",
    "    transform = transforms.Compose([\n",
    "        transforms.ToTensor(),  # Normalizza i valori dei pixel da [0, 255] a [0.0, 1.0]\n",
    "        transforms.Normalize((0.5,), (0.5,))  # Normalizzo i valori dei pixel e li porto in un intervallo [-1, 1]\n",
    "        # (0.5,) indica la media e la deviazione standard per ogni canale dell'immagine, in questo caso la scala di grigi\n",
    "    ])\n",
    "    \n",
    "    dataset = datasets.MNIST(\n",
    "        root='./data',  # Directory dove salvare/leggere il dataset\n",
    "        train=True,     # Usiamo il set di addestramento\n",
    "        download=True,  # Scarica il dataset se non è presente\n",
    "        transform=transform  # Applica le trasformazioni definite sopra\n",
    "    )\n",
    "    \n",
    "    dataloader = DataLoader( #organizzo i dati in batch tramite il DataLoader\n",
    "        dataset,\n",
    "        batch_size=batch_size,  # Numero di immagini da passare alla rete neurale alla volta\n",
    "        shuffle=True  # Mescola i dati per l'addestramento\n",
    "    )\n",
    "    \n",
    "    return dataloader\n",
    "\n"
   ]
  },
  {
   "cell_type": "code",
   "execution_count": 3,
   "id": "e656919f-5242-4234-8ab5-b296674e0a50",
   "metadata": {
    "tags": []
   },
   "outputs": [
    {
     "name": "stderr",
     "output_type": "stream",
     "text": [
      "100%|██████████████████████████████████████| 9.91M/9.91M [00:04<00:00, 2.40MB/s]\n",
      "100%|███████████████████████████████████████| 28.9k/28.9k [00:00<00:00, 261kB/s]\n",
      "100%|██████████████████████████████████████| 1.65M/1.65M [00:00<00:00, 2.21MB/s]\n",
      "100%|██████████████████████████████████████| 4.54k/4.54k [00:00<00:00, 1.55MB/s]"
     ]
    },
    {
     "name": "stdout",
     "output_type": "stream",
     "text": [
      "Forma del batch di immagini: torch.Size([64, 1, 28, 28])\n",
      "Forma del batch di etichette: torch.Size([64])\n"
     ]
    },
    {
     "name": "stderr",
     "output_type": "stream",
     "text": [
      "\n"
     ]
    }
   ],
   "source": [
    "dataloader = get_dataloader(batch_size=64)\n",
    "for images, labels in dataloader:\n",
    "    print(f\"Forma del batch di immagini: {images.shape}\")\n",
    "    print(f\"Forma del batch di etichette: {labels.shape}\")\n",
    "    break\n"
   ]
  },
  {
   "cell_type": "code",
   "execution_count": 4,
   "id": "9d1aff3a-1a95-4543-ad82-031f42a3b346",
   "metadata": {
    "tags": []
   },
   "outputs": [],
   "source": [
    "# ([64, 1, 28, 28]): 64 è il batch size, 1 è il numero di canali e 28 sono altezza e larghezza delle immagini"
   ]
  },
  {
   "cell_type": "code",
   "execution_count": 5,
   "id": "a90aeba5-9352-4591-8cb9-75f137ead1b3",
   "metadata": {
    "tags": []
   },
   "outputs": [
    {
     "data": {
      "image/png": "[encoded data removed]",
      "text/plain": [
       "<Figure size 640x480 with 1 Axes>"
      ]
     },
     "metadata": {},
     "output_type": "display_data"
    }
   ],
   "source": [
    "import matplotlib.pyplot as plt\n",
    "plt.imshow(images[0][0], cmap='gray')  # Prima immagine del batch\n",
    "plt.show()"
   ]
  }
 ],
 "metadata": {
  "kernelspec": {
   "display_name": "Python 3 (ipykernel)",
   "language": "python",
   "name": "python3"
  },
  "language_info": {
   "codemirror_mode": {
    "name": "ipython",
    "version": 3
   },
   "file_extension": ".py",
   "mimetype": "text/x-python",
   "name": "python",
   "nbconvert_exporter": "python",
   "pygments_lexer": "ipython3",
   "version": "3.11.5"
  }
 },
 "nbformat": 4,
 "nbformat_minor": 5
}
